{
 "cells": [
  {
   "cell_type": "markdown",
   "id": "1af2159f-abf4-4643-ba7a-1ddc5446652c",
   "metadata": {},
   "source": [
    "# <span style=\"font-family: cursive\">Notebook Imports</span>"
   ]
  },
  {
   "cell_type": "code",
   "execution_count": 1,
   "id": "f10605fa-dade-44ef-911a-2d7a9999f995",
   "metadata": {},
   "outputs": [],
   "source": [
    "import pandas as pd\n",
    "import numpy as np \n",
    "import matplotlib.pyplot as plt\n",
    "import seaborn as sns\n",
    "import missingno as msno"
   ]
  },
  {
   "cell_type": "markdown",
   "id": "80910481-8228-4ee0-982e-bfcd876eb9bb",
   "metadata": {},
   "source": [
    "# <span style=\"font-family: cursive\">General Objectives</span>"
   ]
  },
  {
   "cell_type": "markdown",
   "id": "aef1ac74-ee25-46f0-82d9-206c2fdab295",
   "metadata": {},
   "source": [
    " * Assessing Trends to Pinpoint Regions Experiencing Varied Patterns in Death Rates Due to Cancer.\n",
    " * How many Counties met the objective (achieving Death Rate of 45.5).\n",
    " * Identify Region where both Incidence and Death Rates coexists.\n",
    " * Temporal Trends and Time Series Analysis.\n",
    " * Group Regions based on similarities in Death and Incidence Rate.\n",
    " * Identify Regions where high incidence Rates align with high Death Rates\n",
    " * Identify Counties with lower or higher average Annual Count.\n",
    " * Predictive modeling"
   ]
  },
  {
   "cell_type": "markdown",
   "id": "b0cf674e-97bf-4f3e-a287-a7f6dcdef97b",
   "metadata": {},
   "source": [
    "# <span style=\"font-family: cursive\">Loading Datasets</span>"
   ]
  },
  {
   "cell_type": "code",
   "execution_count": 2,
   "id": "fff28d0e-83a5-47f2-9af7-972bb66b1391",
   "metadata": {},
   "outputs": [],
   "source": [
    "death_data = pd.read_csv('death.csv')\n",
    "incd_data = pd.read_csv('incd.csv')"
   ]
  },
  {
   "cell_type": "code",
   "execution_count": 3,
   "id": "0c2e2948-a603-4a19-aee5-6fa8c18156a2",
   "metadata": {},
   "outputs": [
    {
     "data": {
      "text/html": [
       "<div>\n",
       "<style scoped>\n",
       "    .dataframe tbody tr th:only-of-type {\n",
       "        vertical-align: middle;\n",
       "    }\n",
       "\n",
       "    .dataframe tbody tr th {\n",
       "        vertical-align: top;\n",
       "    }\n",
       "\n",
       "    .dataframe thead th {\n",
       "        text-align: right;\n",
       "    }\n",
       "</style>\n",
       "<table border=\"1\" class=\"dataframe\">\n",
       "  <thead>\n",
       "    <tr style=\"text-align: right;\">\n",
       "      <th></th>\n",
       "      <th>index</th>\n",
       "      <th>County</th>\n",
       "      <th>FIPS</th>\n",
       "      <th>Met Objective of 45.5? (1)</th>\n",
       "      <th>Age-Adjusted Death Rate</th>\n",
       "      <th>Lower 95% Confidence Interval for Death Rate</th>\n",
       "      <th>Upper 95% Confidence Interval for Death Rate</th>\n",
       "      <th>Average Deaths per Year</th>\n",
       "      <th>Recent Trend (2)</th>\n",
       "      <th>Recent 5-Year Trend (2) in Death Rates</th>\n",
       "      <th>Lower 95% Confidence Interval for Trend</th>\n",
       "      <th>Upper 95% Confidence Interval for Trend</th>\n",
       "    </tr>\n",
       "  </thead>\n",
       "  <tbody>\n",
       "    <tr>\n",
       "      <th>0</th>\n",
       "      <td>0</td>\n",
       "      <td>United States</td>\n",
       "      <td>0</td>\n",
       "      <td>No</td>\n",
       "      <td>46</td>\n",
       "      <td>45.9</td>\n",
       "      <td>46.1</td>\n",
       "      <td>157,376</td>\n",
       "      <td>falling</td>\n",
       "      <td>-2.4</td>\n",
       "      <td>-2.6</td>\n",
       "      <td>-2.2</td>\n",
       "    </tr>\n",
       "    <tr>\n",
       "      <th>1</th>\n",
       "      <td>1</td>\n",
       "      <td>Perry County, Kentucky</td>\n",
       "      <td>21193</td>\n",
       "      <td>No</td>\n",
       "      <td>125.6</td>\n",
       "      <td>108.9</td>\n",
       "      <td>144.2</td>\n",
       "      <td>43</td>\n",
       "      <td>stable</td>\n",
       "      <td>-0.6</td>\n",
       "      <td>-2.7</td>\n",
       "      <td>1.6</td>\n",
       "    </tr>\n",
       "    <tr>\n",
       "      <th>2</th>\n",
       "      <td>2</td>\n",
       "      <td>Powell County, Kentucky</td>\n",
       "      <td>21197</td>\n",
       "      <td>No</td>\n",
       "      <td>125.3</td>\n",
       "      <td>100.2</td>\n",
       "      <td>155.1</td>\n",
       "      <td>18</td>\n",
       "      <td>stable</td>\n",
       "      <td>1.7</td>\n",
       "      <td>0</td>\n",
       "      <td>3.4</td>\n",
       "    </tr>\n",
       "  </tbody>\n",
       "</table>\n",
       "</div>"
      ],
      "text/plain": [
       "   index                   County   FIPS Met Objective of 45.5? (1)  \\\n",
       "0      0            United States      0                         No   \n",
       "1      1   Perry County, Kentucky  21193                         No   \n",
       "2      2  Powell County, Kentucky  21197                         No   \n",
       "\n",
       "  Age-Adjusted Death Rate Lower 95% Confidence Interval for Death Rate  \\\n",
       "0                      46                                         45.9   \n",
       "1                   125.6                                        108.9   \n",
       "2                   125.3                                        100.2   \n",
       "\n",
       "  Upper 95% Confidence Interval for Death Rate Average Deaths per Year  \\\n",
       "0                                         46.1                 157,376   \n",
       "1                                        144.2                      43   \n",
       "2                                        155.1                      18   \n",
       "\n",
       "  Recent Trend (2) Recent 5-Year Trend (2) in Death Rates  \\\n",
       "0          falling                                   -2.4   \n",
       "1           stable                                   -0.6   \n",
       "2           stable                                    1.7   \n",
       "\n",
       "  Lower 95% Confidence Interval for Trend  \\\n",
       "0                                    -2.6   \n",
       "1                                    -2.7   \n",
       "2                                       0   \n",
       "\n",
       "  Upper 95% Confidence Interval for Trend  \n",
       "0                                    -2.2  \n",
       "1                                     1.6  \n",
       "2                                     3.4  "
      ]
     },
     "execution_count": 3,
     "metadata": {},
     "output_type": "execute_result"
    }
   ],
   "source": [
    "death_data.head(3)"
   ]
  },
  {
   "cell_type": "code",
   "execution_count": 4,
   "id": "219be5a0-6eb9-4fe2-9716-ab5fdcae8ec7",
   "metadata": {},
   "outputs": [
    {
     "data": {
      "text/html": [
       "<div>\n",
       "<style scoped>\n",
       "    .dataframe tbody tr th:only-of-type {\n",
       "        vertical-align: middle;\n",
       "    }\n",
       "\n",
       "    .dataframe tbody tr th {\n",
       "        vertical-align: top;\n",
       "    }\n",
       "\n",
       "    .dataframe thead th {\n",
       "        text-align: right;\n",
       "    }\n",
       "</style>\n",
       "<table border=\"1\" class=\"dataframe\">\n",
       "  <thead>\n",
       "    <tr style=\"text-align: right;\">\n",
       "      <th></th>\n",
       "      <th>index</th>\n",
       "      <th>County</th>\n",
       "      <th>FIPS</th>\n",
       "      <th>Age-Adjusted Incidence Rate(Ê) - cases per 100,000</th>\n",
       "      <th>Lower 95% Confidence Interval</th>\n",
       "      <th>Upper 95% Confidence Interval</th>\n",
       "      <th>Average Annual Count</th>\n",
       "      <th>Recent Trend</th>\n",
       "      <th>Recent 5-Year Trend (ˆ) in Incidence Rates</th>\n",
       "      <th>Lower 95% Confidence Interval.1</th>\n",
       "      <th>Upper 95% Confidence Interval.1</th>\n",
       "    </tr>\n",
       "  </thead>\n",
       "  <tbody>\n",
       "    <tr>\n",
       "      <th>0</th>\n",
       "      <td>0</td>\n",
       "      <td>US (SEER+NPCR)(1,10)</td>\n",
       "      <td>0</td>\n",
       "      <td>62.4</td>\n",
       "      <td>62.3</td>\n",
       "      <td>62.6</td>\n",
       "      <td>214614</td>\n",
       "      <td>falling</td>\n",
       "      <td>-2.5</td>\n",
       "      <td>-3</td>\n",
       "      <td>-2</td>\n",
       "    </tr>\n",
       "    <tr>\n",
       "      <th>1</th>\n",
       "      <td>1</td>\n",
       "      <td>Autauga County, Alabama(6,10)</td>\n",
       "      <td>1001</td>\n",
       "      <td>74.9</td>\n",
       "      <td>65.1</td>\n",
       "      <td>85.7</td>\n",
       "      <td>43</td>\n",
       "      <td>stable</td>\n",
       "      <td>0.5</td>\n",
       "      <td>-14.9</td>\n",
       "      <td>18.6</td>\n",
       "    </tr>\n",
       "    <tr>\n",
       "      <th>2</th>\n",
       "      <td>2</td>\n",
       "      <td>Baldwin County, Alabama(6,10)</td>\n",
       "      <td>1003</td>\n",
       "      <td>66.9</td>\n",
       "      <td>62.4</td>\n",
       "      <td>71.7</td>\n",
       "      <td>170</td>\n",
       "      <td>stable</td>\n",
       "      <td>3</td>\n",
       "      <td>-10.2</td>\n",
       "      <td>18.3</td>\n",
       "    </tr>\n",
       "  </tbody>\n",
       "</table>\n",
       "</div>"
      ],
      "text/plain": [
       "   index                         County   FIPS  \\\n",
       "0      0           US (SEER+NPCR)(1,10)      0   \n",
       "1      1  Autauga County, Alabama(6,10)   1001   \n",
       "2      2  Baldwin County, Alabama(6,10)   1003   \n",
       "\n",
       "  Age-Adjusted Incidence Rate(Ê) - cases per 100,000  \\\n",
       "0                                               62.4   \n",
       "1                                               74.9   \n",
       "2                                               66.9   \n",
       "\n",
       "  Lower 95% Confidence Interval Upper 95% Confidence Interval  \\\n",
       "0                          62.3                          62.6   \n",
       "1                          65.1                          85.7   \n",
       "2                          62.4                          71.7   \n",
       "\n",
       "  Average Annual Count Recent Trend  \\\n",
       "0               214614      falling   \n",
       "1                   43       stable   \n",
       "2                  170       stable   \n",
       "\n",
       "  Recent 5-Year Trend (ˆ) in Incidence Rates Lower 95% Confidence Interval.1  \\\n",
       "0                                       -2.5                              -3   \n",
       "1                                        0.5                           -14.9   \n",
       "2                                          3                           -10.2   \n",
       "\n",
       "  Upper 95% Confidence Interval.1  \n",
       "0                              -2  \n",
       "1                            18.6  \n",
       "2                            18.3  "
      ]
     },
     "execution_count": 4,
     "metadata": {},
     "output_type": "execute_result"
    }
   ],
   "source": [
    "incd_data.head(3)"
   ]
  },
  {
   "cell_type": "code",
   "execution_count": 5,
   "id": "3b903bdd-81d2-4cf5-bd54-79524b09ae38",
   "metadata": {},
   "outputs": [
    {
     "name": "stdout",
     "output_type": "stream",
     "text": [
      "<class 'pandas.core.frame.DataFrame'>\n",
      "RangeIndex: 3141 entries, 0 to 3140\n",
      "Data columns (total 12 columns):\n",
      " #   Column                                        Non-Null Count  Dtype \n",
      "---  ------                                        --------------  ----- \n",
      " 0   index                                         3141 non-null   int64 \n",
      " 1   County                                        3141 non-null   object\n",
      " 2   FIPS                                          3141 non-null   int64 \n",
      " 3   Met Objective of 45.5? (1)                    3141 non-null   object\n",
      " 4   Age-Adjusted Death Rate                       3141 non-null   object\n",
      " 5   Lower 95% Confidence Interval for Death Rate  3141 non-null   object\n",
      " 6   Upper 95% Confidence Interval for Death Rate  3141 non-null   object\n",
      " 7   Average Deaths per Year                       3141 non-null   object\n",
      " 8   Recent Trend (2)                              3141 non-null   object\n",
      " 9   Recent 5-Year Trend (2) in Death Rates        3141 non-null   object\n",
      " 10  Lower 95% Confidence Interval for Trend       3141 non-null   object\n",
      " 11  Upper 95% Confidence Interval for Trend       3141 non-null   object\n",
      "dtypes: int64(2), object(10)\n",
      "memory usage: 294.6+ KB\n",
      "----------------------------------------------------------------------\n",
      "<class 'pandas.core.frame.DataFrame'>\n",
      "RangeIndex: 3141 entries, 0 to 3140\n",
      "Data columns (total 11 columns):\n",
      " #   Column                                              Non-Null Count  Dtype \n",
      "---  ------                                              --------------  ----- \n",
      " 0   index                                               3141 non-null   int64 \n",
      " 1   County                                              3141 non-null   object\n",
      " 2    FIPS                                               3141 non-null   int64 \n",
      " 3   Age-Adjusted Incidence Rate(Ê) - cases per 100,000  3141 non-null   object\n",
      " 4   Lower 95% Confidence Interval                       3141 non-null   object\n",
      " 5   Upper 95% Confidence Interval                       3141 non-null   object\n",
      " 6   Average Annual Count                                3141 non-null   object\n",
      " 7   Recent Trend                                        3141 non-null   object\n",
      " 8   Recent 5-Year Trend (ˆ) in Incidence Rates          3141 non-null   object\n",
      " 9   Lower 95% Confidence Interval.1                     3141 non-null   object\n",
      " 10  Upper 95% Confidence Interval.1                     3141 non-null   object\n",
      "dtypes: int64(2), object(9)\n",
      "memory usage: 270.1+ KB\n"
     ]
    },
    {
     "data": {
      "text/plain": [
       "(None, None, None)"
      ]
     },
     "execution_count": 5,
     "metadata": {},
     "output_type": "execute_result"
    }
   ],
   "source": [
    "death_data.info(), print('--'*35), incd_data.info()"
   ]
  },
  {
   "cell_type": "markdown",
   "id": "a1b5655b-7f68-4e77-809e-74f6965fa291",
   "metadata": {},
   "source": [
    "# <span style=\"font-family: cursive\">Merging DataFrames</span>"
   ]
  },
  {
   "cell_type": "markdown",
   "id": "bb97b50e-e339-44ff-9109-5254555fbc24",
   "metadata": {},
   "source": [
    "We're going to merge on FIPS which serves as a common identifier.\n",
    "> The merged data will be used for exploratory analysis, or other relevant analysis\\\n",
    "> to study the relationship between incidence rates and death rates across counties."
   ]
  },
  {
   "cell_type": "code",
   "execution_count": 6,
   "id": "984cc129-f447-419f-9b99-0113fc415210",
   "metadata": {},
   "outputs": [],
   "source": [
    "# To start, the initial step involves eliminating any trailing spaces from the column_names.\n",
    "incd_data.columns = incd_data.columns.str.strip()\n",
    "death_data.columns = death_data.columns.str.strip()"
   ]
  },
  {
   "cell_type": "markdown",
   "id": "887cd62f-549b-4cba-b78b-ca26180af0ff",
   "metadata": {},
   "source": [
    "de"
   ]
  },
  {
   "cell_type": "markdown",
   "id": "abf9a9d2-f11a-467c-9a2f-ee22d364b1e7",
   "metadata": {},
   "source": [
    "Lets check to make sure the proper match"
   ]
  },
  {
   "cell_type": "code",
   "execution_count": 7,
   "id": "722501e0-48e7-486f-bf7c-6406a81f5446",
   "metadata": {},
   "outputs": [
    {
     "data": {
      "text/plain": [
       "(3141, 3141)"
      ]
     },
     "execution_count": 7,
     "metadata": {},
     "output_type": "execute_result"
    }
   ],
   "source": [
    "incd_data['FIPS'].nunique(), death_data['FIPS'].nunique()"
   ]
  },
  {
   "cell_type": "code",
   "execution_count": 8,
   "id": "40cea736-a87b-470b-b741-54181c6df42f",
   "metadata": {},
   "outputs": [
    {
     "data": {
      "text/plain": [
       "3141"
      ]
     },
     "execution_count": 8,
     "metadata": {},
     "output_type": "execute_result"
    }
   ],
   "source": [
    "incd_data.FIPS.isin(death_data.FIPS).sum()"
   ]
  },
  {
   "cell_type": "markdown",
   "id": "c6e3d977-04d2-4f10-9c0c-4336ca85d02e",
   "metadata": {},
   "source": [
    " **All 3141 FIPS values in our death_data perfectly align with the incidence dataframe. We're all set to proceed with merging them!**"
   ]
  },
  {
   "cell_type": "code",
   "execution_count": 9,
   "id": "bea59090-ed2f-4fcb-831d-bf6c10204af5",
   "metadata": {},
   "outputs": [
    {
     "data": {
      "text/plain": [
       "(1088    Perry County, Kentucky(7,9)\n",
       " Name: County, dtype: object,\n",
       " 1    Perry County, Kentucky\n",
       " Name: County, dtype: object)"
      ]
     },
     "execution_count": 9,
     "metadata": {},
     "output_type": "execute_result"
    }
   ],
   "source": [
    "# As an added precaution\n",
    "incd_data.loc[incd_data['FIPS'] == 21193, 'County'], death_data.loc[death_data['FIPS'] == 21193, 'County']"
   ]
  },
  {
   "cell_type": "code",
   "execution_count": 10,
   "id": "0970fd23-0059-40bb-8778-dbb875bb288f",
   "metadata": {},
   "outputs": [
    {
     "data": {
      "text/html": [
       "<div>\n",
       "<style scoped>\n",
       "    .dataframe tbody tr th:only-of-type {\n",
       "        vertical-align: middle;\n",
       "    }\n",
       "\n",
       "    .dataframe tbody tr th {\n",
       "        vertical-align: top;\n",
       "    }\n",
       "\n",
       "    .dataframe thead th {\n",
       "        text-align: right;\n",
       "    }\n",
       "</style>\n",
       "<table border=\"1\" class=\"dataframe\">\n",
       "  <thead>\n",
       "    <tr style=\"text-align: right;\">\n",
       "      <th></th>\n",
       "      <th>index_x</th>\n",
       "      <th>County_x</th>\n",
       "      <th>FIPS</th>\n",
       "      <th>Met Objective of 45.5? (1)</th>\n",
       "      <th>Age-Adjusted Death Rate</th>\n",
       "      <th>Lower 95% Confidence Interval for Death Rate</th>\n",
       "      <th>Upper 95% Confidence Interval for Death Rate</th>\n",
       "      <th>Average Deaths per Year</th>\n",
       "      <th>Recent Trend (2)</th>\n",
       "      <th>Recent 5-Year Trend (2) in Death Rates</th>\n",
       "      <th>...</th>\n",
       "      <th>index_y</th>\n",
       "      <th>County_y</th>\n",
       "      <th>Age-Adjusted Incidence Rate(Ê) - cases per 100,000</th>\n",
       "      <th>Lower 95% Confidence Interval</th>\n",
       "      <th>Upper 95% Confidence Interval</th>\n",
       "      <th>Average Annual Count</th>\n",
       "      <th>Recent Trend</th>\n",
       "      <th>Recent 5-Year Trend (ˆ) in Incidence Rates</th>\n",
       "      <th>Lower 95% Confidence Interval.1</th>\n",
       "      <th>Upper 95% Confidence Interval.1</th>\n",
       "    </tr>\n",
       "  </thead>\n",
       "  <tbody>\n",
       "    <tr>\n",
       "      <th>0</th>\n",
       "      <td>0</td>\n",
       "      <td>United States</td>\n",
       "      <td>0</td>\n",
       "      <td>No</td>\n",
       "      <td>46</td>\n",
       "      <td>45.9</td>\n",
       "      <td>46.1</td>\n",
       "      <td>157,376</td>\n",
       "      <td>falling</td>\n",
       "      <td>-2.4</td>\n",
       "      <td>...</td>\n",
       "      <td>0</td>\n",
       "      <td>US (SEER+NPCR)(1,10)</td>\n",
       "      <td>62.4</td>\n",
       "      <td>62.3</td>\n",
       "      <td>62.6</td>\n",
       "      <td>214614</td>\n",
       "      <td>falling</td>\n",
       "      <td>-2.5</td>\n",
       "      <td>-3</td>\n",
       "      <td>-2</td>\n",
       "    </tr>\n",
       "    <tr>\n",
       "      <th>1</th>\n",
       "      <td>1</td>\n",
       "      <td>Perry County, Kentucky</td>\n",
       "      <td>21193</td>\n",
       "      <td>No</td>\n",
       "      <td>125.6</td>\n",
       "      <td>108.9</td>\n",
       "      <td>144.2</td>\n",
       "      <td>43</td>\n",
       "      <td>stable</td>\n",
       "      <td>-0.6</td>\n",
       "      <td>...</td>\n",
       "      <td>1088</td>\n",
       "      <td>Perry County, Kentucky(7,9)</td>\n",
       "      <td>139.7</td>\n",
       "      <td>122.2</td>\n",
       "      <td>159.1</td>\n",
       "      <td>49</td>\n",
       "      <td>falling</td>\n",
       "      <td>-15</td>\n",
       "      <td>-26.3</td>\n",
       "      <td>-1.9</td>\n",
       "    </tr>\n",
       "    <tr>\n",
       "      <th>2</th>\n",
       "      <td>2</td>\n",
       "      <td>Powell County, Kentucky</td>\n",
       "      <td>21197</td>\n",
       "      <td>No</td>\n",
       "      <td>125.3</td>\n",
       "      <td>100.2</td>\n",
       "      <td>155.1</td>\n",
       "      <td>18</td>\n",
       "      <td>stable</td>\n",
       "      <td>1.7</td>\n",
       "      <td>...</td>\n",
       "      <td>1090</td>\n",
       "      <td>Powell County, Kentucky(7,9)</td>\n",
       "      <td>152.9</td>\n",
       "      <td>125.7</td>\n",
       "      <td>184.6</td>\n",
       "      <td>23</td>\n",
       "      <td>stable</td>\n",
       "      <td>8.2</td>\n",
       "      <td>-7.3</td>\n",
       "      <td>26.2</td>\n",
       "    </tr>\n",
       "    <tr>\n",
       "      <th>3</th>\n",
       "      <td>3</td>\n",
       "      <td>North Slope Borough, Alaska</td>\n",
       "      <td>2185</td>\n",
       "      <td>No</td>\n",
       "      <td>124.9</td>\n",
       "      <td>73</td>\n",
       "      <td>194.7</td>\n",
       "      <td>5</td>\n",
       "      <td>**</td>\n",
       "      <td>**</td>\n",
       "      <td>...</td>\n",
       "      <td>84</td>\n",
       "      <td>North Slope Borough, Alaska(6,10)</td>\n",
       "      <td>153.4</td>\n",
       "      <td>95.2</td>\n",
       "      <td>229.4</td>\n",
       "      <td>6</td>\n",
       "      <td>stable</td>\n",
       "      <td>0.2</td>\n",
       "      <td>-34.3</td>\n",
       "      <td>52.7</td>\n",
       "    </tr>\n",
       "    <tr>\n",
       "      <th>4</th>\n",
       "      <td>4</td>\n",
       "      <td>Owsley County, Kentucky</td>\n",
       "      <td>21189</td>\n",
       "      <td>No</td>\n",
       "      <td>118.5</td>\n",
       "      <td>83.1</td>\n",
       "      <td>165.5</td>\n",
       "      <td>8</td>\n",
       "      <td>stable</td>\n",
       "      <td>2.2</td>\n",
       "      <td>...</td>\n",
       "      <td>1086</td>\n",
       "      <td>Owsley County, Kentucky(7,9)</td>\n",
       "      <td>148.1</td>\n",
       "      <td>107.8</td>\n",
       "      <td>199.8</td>\n",
       "      <td>9</td>\n",
       "      <td>stable</td>\n",
       "      <td>10.6</td>\n",
       "      <td>-13.1</td>\n",
       "      <td>40.9</td>\n",
       "    </tr>\n",
       "  </tbody>\n",
       "</table>\n",
       "<p>5 rows × 22 columns</p>\n",
       "</div>"
      ],
      "text/plain": [
       "   index_x                     County_x   FIPS Met Objective of 45.5? (1)  \\\n",
       "0        0                United States      0                         No   \n",
       "1        1       Perry County, Kentucky  21193                         No   \n",
       "2        2      Powell County, Kentucky  21197                         No   \n",
       "3        3  North Slope Borough, Alaska   2185                         No   \n",
       "4        4      Owsley County, Kentucky  21189                         No   \n",
       "\n",
       "  Age-Adjusted Death Rate Lower 95% Confidence Interval for Death Rate  \\\n",
       "0                      46                                         45.9   \n",
       "1                   125.6                                        108.9   \n",
       "2                   125.3                                        100.2   \n",
       "3                   124.9                                           73   \n",
       "4                   118.5                                         83.1   \n",
       "\n",
       "  Upper 95% Confidence Interval for Death Rate Average Deaths per Year  \\\n",
       "0                                         46.1                 157,376   \n",
       "1                                        144.2                      43   \n",
       "2                                        155.1                      18   \n",
       "3                                        194.7                       5   \n",
       "4                                        165.5                       8   \n",
       "\n",
       "  Recent Trend (2) Recent 5-Year Trend (2) in Death Rates  ... index_y  \\\n",
       "0          falling                                   -2.4  ...       0   \n",
       "1           stable                                   -0.6  ...    1088   \n",
       "2           stable                                    1.7  ...    1090   \n",
       "3               **                                     **  ...      84   \n",
       "4           stable                                    2.2  ...    1086   \n",
       "\n",
       "                            County_y  \\\n",
       "0               US (SEER+NPCR)(1,10)   \n",
       "1        Perry County, Kentucky(7,9)   \n",
       "2       Powell County, Kentucky(7,9)   \n",
       "3  North Slope Borough, Alaska(6,10)   \n",
       "4       Owsley County, Kentucky(7,9)   \n",
       "\n",
       "   Age-Adjusted Incidence Rate(Ê) - cases per 100,000  \\\n",
       "0                                               62.4    \n",
       "1                                              139.7    \n",
       "2                                              152.9    \n",
       "3                                              153.4    \n",
       "4                                              148.1    \n",
       "\n",
       "  Lower 95% Confidence Interval Upper 95% Confidence Interval  \\\n",
       "0                          62.3                          62.6   \n",
       "1                         122.2                         159.1   \n",
       "2                         125.7                         184.6   \n",
       "3                          95.2                         229.4   \n",
       "4                         107.8                         199.8   \n",
       "\n",
       "  Average Annual Count Recent Trend  \\\n",
       "0               214614      falling   \n",
       "1                   49      falling   \n",
       "2                   23       stable   \n",
       "3                    6       stable   \n",
       "4                    9       stable   \n",
       "\n",
       "  Recent 5-Year Trend (ˆ) in Incidence Rates Lower 95% Confidence Interval.1  \\\n",
       "0                                       -2.5                              -3   \n",
       "1                                        -15                           -26.3   \n",
       "2                                        8.2                            -7.3   \n",
       "3                                        0.2                           -34.3   \n",
       "4                                       10.6                           -13.1   \n",
       "\n",
       "  Upper 95% Confidence Interval.1  \n",
       "0                              -2  \n",
       "1                            -1.9  \n",
       "2                            26.2  \n",
       "3                            52.7  \n",
       "4                            40.9  \n",
       "\n",
       "[5 rows x 22 columns]"
      ]
     },
     "execution_count": 10,
     "metadata": {},
     "output_type": "execute_result"
    }
   ],
   "source": [
    "# merging dataframes on FIPS\n",
    "df = pd.merge(death_data, incd_data, on='FIPS', how='inner')\n",
    "df.head()"
   ]
  },
  {
   "cell_type": "code",
   "execution_count": 11,
   "id": "505c7fac-fa6d-4981-8311-6d454bee62de",
   "metadata": {},
   "outputs": [],
   "source": [
    "df.drop(['index_y', 'County_y'], axis=1,  inplace=True)"
   ]
  },
  {
   "cell_type": "markdown",
   "id": "dd515f14-7f77-4815-944e-7e631257aa6b",
   "metadata": {},
   "source": [
    "# <span style=\"font-family: cursive\">Clean and Prepare Data</span>\n",
    "* Data Type Standardization\n",
    "* Handling Missing Values\n",
    "* Addressing Inconsistencies\n",
    "* Renaming Columns"
   ]
  },
  {
   "cell_type": "code",
   "execution_count": 12,
   "id": "d3a728fa-ae05-4b99-9d8c-724a9930f54b",
   "metadata": {},
   "outputs": [],
   "source": [
    "# Renaming Columns\n",
    "df = df.rename(columns={\n",
    "    'index_x' : 'index', 'County_x' : 'County',\n",
    "    'Met Objective of 45.5? (1)' :'Objective',\n",
    "    'Age-Adjusted Death Rate' : 'Adjusted_Age',\n",
    "    'Lower 95% Confidence Interval for Death Rate' : 'Lower95%_DeathRate',\n",
    "    'Upper 95% Confidence Interval for Death Rate' : 'Upper95%_DeathRate',\n",
    "    'Average Deaths per Year' : 'Death_Rate',\n",
    "    'Recent Trend (2)' : 'RecentTrend_x',\n",
    "    'Recent 5-Year Trend (2) in Death Rates' : 'Recent5YearTrend_x',\n",
    "    'Lower 95% Confidence Interval for Trend' : 'Lower95%CI_Trend',\n",
    "    'Upper 95% Confidence Interval for Trend' : 'Upper95%CI_Trend',\n",
    "    'Age-Adjusted Incidence Rate(Ê) - cases per 100,000' : 'Adjusted_Age_Incd',\n",
    "    'Lower 95% Confidence Interval'  : 'Lower95%CI_Incd',\n",
    "    'Upper 95% Confidence Interval'  : 'Upper95%CI_Incd',\n",
    "    'Average Annual Count' : 'Average_Annual_Count',\n",
    "    'Recent Trend' : 'RecentTrend_y',\n",
    "    'Recent 5-Year Trend (ˆ) in Incidence Rates' : 'Recent5YearTrend_y',\n",
    "    'Lower 95% Confidence Interval.1' : 'Lower95%CI_Incd1',\n",
    "    'Upper 95% Confidence Interval.1' : 'Upper95%CI_Incd1'\n",
    "})\n",
    "\n",
    "df.set_index('index', inplace=True)"
   ]
  },
  {
   "cell_type": "code",
   "execution_count": 13,
   "id": "1b0c349e-828f-42bf-a259-fe584a68a913",
   "metadata": {},
   "outputs": [
    {
     "data": {
      "text/html": [
       "<div>\n",
       "<style scoped>\n",
       "    .dataframe tbody tr th:only-of-type {\n",
       "        vertical-align: middle;\n",
       "    }\n",
       "\n",
       "    .dataframe tbody tr th {\n",
       "        vertical-align: top;\n",
       "    }\n",
       "\n",
       "    .dataframe thead th {\n",
       "        text-align: right;\n",
       "    }\n",
       "</style>\n",
       "<table border=\"1\" class=\"dataframe\">\n",
       "  <thead>\n",
       "    <tr style=\"text-align: right;\">\n",
       "      <th></th>\n",
       "      <th>County</th>\n",
       "      <th>FIPS</th>\n",
       "      <th>Objective</th>\n",
       "      <th>Adjusted_Age</th>\n",
       "      <th>Lower95%_DeathRate</th>\n",
       "      <th>Upper95%_DeathRate</th>\n",
       "      <th>Death_Rate</th>\n",
       "      <th>RecentTrend_x</th>\n",
       "      <th>Recent5YearTrend_x</th>\n",
       "      <th>Lower95%CI_Trend</th>\n",
       "      <th>Upper95%CI_Trend</th>\n",
       "      <th>Adjusted_Age_Incd</th>\n",
       "      <th>Lower95%CI_Incd</th>\n",
       "      <th>Upper95%CI_Incd</th>\n",
       "      <th>Average_Annual_Count</th>\n",
       "      <th>RecentTrend_y</th>\n",
       "      <th>Recent5YearTrend_y</th>\n",
       "      <th>Lower95%CI_Incd1</th>\n",
       "      <th>Upper95%CI_Incd1</th>\n",
       "    </tr>\n",
       "    <tr>\n",
       "      <th>index</th>\n",
       "      <th></th>\n",
       "      <th></th>\n",
       "      <th></th>\n",
       "      <th></th>\n",
       "      <th></th>\n",
       "      <th></th>\n",
       "      <th></th>\n",
       "      <th></th>\n",
       "      <th></th>\n",
       "      <th></th>\n",
       "      <th></th>\n",
       "      <th></th>\n",
       "      <th></th>\n",
       "      <th></th>\n",
       "      <th></th>\n",
       "      <th></th>\n",
       "      <th></th>\n",
       "      <th></th>\n",
       "      <th></th>\n",
       "    </tr>\n",
       "  </thead>\n",
       "  <tbody>\n",
       "    <tr>\n",
       "      <th>0</th>\n",
       "      <td>United States</td>\n",
       "      <td>0</td>\n",
       "      <td>No</td>\n",
       "      <td>46</td>\n",
       "      <td>45.9</td>\n",
       "      <td>46.1</td>\n",
       "      <td>157,376</td>\n",
       "      <td>falling</td>\n",
       "      <td>-2.4</td>\n",
       "      <td>-2.6</td>\n",
       "      <td>-2.2</td>\n",
       "      <td>62.4</td>\n",
       "      <td>62.3</td>\n",
       "      <td>62.6</td>\n",
       "      <td>214614</td>\n",
       "      <td>falling</td>\n",
       "      <td>-2.5</td>\n",
       "      <td>-3</td>\n",
       "      <td>-2</td>\n",
       "    </tr>\n",
       "    <tr>\n",
       "      <th>1</th>\n",
       "      <td>Perry County, Kentucky</td>\n",
       "      <td>21193</td>\n",
       "      <td>No</td>\n",
       "      <td>125.6</td>\n",
       "      <td>108.9</td>\n",
       "      <td>144.2</td>\n",
       "      <td>43</td>\n",
       "      <td>stable</td>\n",
       "      <td>-0.6</td>\n",
       "      <td>-2.7</td>\n",
       "      <td>1.6</td>\n",
       "      <td>139.7</td>\n",
       "      <td>122.2</td>\n",
       "      <td>159.1</td>\n",
       "      <td>49</td>\n",
       "      <td>falling</td>\n",
       "      <td>-15</td>\n",
       "      <td>-26.3</td>\n",
       "      <td>-1.9</td>\n",
       "    </tr>\n",
       "  </tbody>\n",
       "</table>\n",
       "</div>"
      ],
      "text/plain": [
       "                       County   FIPS Objective Adjusted_Age  \\\n",
       "index                                                         \n",
       "0               United States      0        No           46   \n",
       "1      Perry County, Kentucky  21193        No        125.6   \n",
       "\n",
       "      Lower95%_DeathRate Upper95%_DeathRate Death_Rate RecentTrend_x  \\\n",
       "index                                                                  \n",
       "0                   45.9               46.1    157,376       falling   \n",
       "1                  108.9              144.2         43        stable   \n",
       "\n",
       "      Recent5YearTrend_x Lower95%CI_Trend Upper95%CI_Trend Adjusted_Age_Incd  \\\n",
       "index                                                                          \n",
       "0                   -2.4             -2.6             -2.2              62.4   \n",
       "1                   -0.6             -2.7              1.6             139.7   \n",
       "\n",
       "      Lower95%CI_Incd Upper95%CI_Incd Average_Annual_Count RecentTrend_y  \\\n",
       "index                                                                      \n",
       "0                62.3            62.6               214614       falling   \n",
       "1               122.2           159.1                   49       falling   \n",
       "\n",
       "      Recent5YearTrend_y Lower95%CI_Incd1 Upper95%CI_Incd1  \n",
       "index                                                       \n",
       "0                   -2.5               -3               -2  \n",
       "1                    -15            -26.3             -1.9  "
      ]
     },
     "execution_count": 13,
     "metadata": {},
     "output_type": "execute_result"
    }
   ],
   "source": [
    "df.head(2)"
   ]
  },
  {
   "cell_type": "markdown",
   "id": "ba8e987e-33cf-418a-8d71-34ee35af9d4d",
   "metadata": {},
   "source": [
    "## <span style=\"font-family :cursive\">Features Description</span>"
   ]
  },
  {
   "cell_type": "markdown",
   "id": "f5a9e79c-57fc-48f3-b0d3-4b8d0fd11c38",
   "metadata": {},
   "source": [
    ">* **County** --> Name of geographical region.\n",
    ">* **FIPS**       --> Federal Information Processing Standards, standralized set of codes uniquely identify counties.\n",
    ">* **Objective**         --> Whether the county met the objective of a death rate of 45.5.\n",
    ">* **Adjusted_Age**       --> Age-adjusted death rate for cancer in the county.\n",
    ">* **Lower95%_DeathRate** --> Lower Boundary esitmate of death rate within a 95% confidence interval.\n",
    ">* **Upper95%_DeathRate** --> Upper Boundary estimate of death rate within a 95% confidence interval.\n",
    ">* **Death_Rate**         --> Average Number of Deaths caused by cancer.\n",
    ">* **Recent_Trend_x**     --> Increase, Decrease, or Stable of the cancer death rate.\n",
    ">* **Recent5YearTrend_x** --> Trend in Death rates over last five years.\n",
    ">* **Lower95%CI_Trend**   --> Lower boundary estimate of the Trend in death rates within 95% CI.\n",
    ">* **Upper95%CI_Trend**   --> Upper boundary estimate of the Trend in death rates within 95% CI.\n",
    ">* **Ajusted_Age_Incd**   --> The rate of new cases of cancer reported per 100,000, adjusted to account for age difference between populations.\n",
    ">* **Average_Annual_Count**--> New cancer cases reported annually in the county."
   ]
  },
  {
   "cell_type": "markdown",
   "id": "592c6210-d1ac-4a9d-ad1d-62ea6073a3e7",
   "metadata": {},
   "source": [
    "## <span style=\"font-family: cursive\">Handling Inconsistencies</span>\n",
    "> *Before changing the data type of the necessary feature or further analysis, it's important to handle the inconsistencies.*"
   ]
  },
  {
   "cell_type": "code",
   "execution_count": 14,
   "id": "e6d659da-c081-415b-a5f7-518184c252c4",
   "metadata": {},
   "outputs": [
    {
     "name": "stdout",
     "output_type": "stream",
     "text": [
      "County\n",
      "Death_Rate\n"
     ]
    }
   ],
   "source": [
    "# removing commas\n",
    "feat_with_comma = []\n",
    "for column in df.columns:\n",
    "  if df[column].dtype == 'object':\n",
    "      if df[column].str.contains(',').any():\n",
    "          feat_with_comma.append(column)\n",
    "          print(f'{column}')"
   ]
  },
  {
   "cell_type": "markdown",
   "id": "40551ab5-b11d-4dad-a605-bfda05731424",
   "metadata": {},
   "source": [
    "> *We cannot eliminate them as the death rate data must be retained; instead, we need to make modifications by replacing them.*"
   ]
  },
  {
   "cell_type": "code",
   "execution_count": 15,
   "id": "8eb0d7e5-c9f1-4929-8155-d4de74bfe7b3",
   "metadata": {},
   "outputs": [],
   "source": [
    "for feature in feat_with_comma:\n",
    "    df[feature] = df[feature].str.replace(',', '')"
   ]
  },
  {
   "cell_type": "code",
   "execution_count": 16,
   "id": "2b5a1bc9-1390-48be-82e1-53dc4cad0108",
   "metadata": {},
   "outputs": [
    {
     "name": "stdout",
     "output_type": "stream",
     "text": [
      "Features with * :\n",
      " ['Objective', 'Adjusted_Age', 'Lower95%_DeathRate', 'Upper95%_DeathRate', 'Death_Rate', 'RecentTrend_x', 'Recent5YearTrend_x', 'Lower95%CI_Trend', 'Upper95%CI_Trend', 'Adjusted_Age_Incd', 'Lower95%CI_Incd', 'Upper95%CI_Incd', 'RecentTrend_y', 'Recent5YearTrend_y', 'Lower95%CI_Incd1', 'Upper95%CI_Incd1']\n",
      "\n",
      "Features with  **:\n",
      " ['RecentTrend_x', 'Recent5YearTrend_x', 'Lower95%CI_Trend', 'Upper95%CI_Trend']\n"
     ]
    }
   ],
   "source": [
    "feat_with_aesterisk = []\n",
    "feat_with_double_aesterisk = []\n",
    "for column in df.columns:\n",
    "    if df[column].dtype == 'object':\n",
    "        if df[column].str.contains('\\*').any():\n",
    "            feat_with_aesterisk.append(column)\n",
    "        if df[column].str.contains('\\*\\*').any():\n",
    "            feat_with_double_aesterisk.append(column)\n",
    "print('Features with * :\\n', feat_with_aesterisk)\n",
    "print('\\nFeatures with  **:\\n', feat_with_double_aesterisk)"
   ]
  },
  {
   "cell_type": "markdown",
   "id": "b6389432-5159-4575-aaa3-d6424ba7151c",
   "metadata": {},
   "source": [
    ">* We can see from the documentation that the asterisk (*) represents a suppression of the data in instances when fewer then 16 annual cases were reported OR (**) represent missing data due to sparsity.\n",
    ">* It's essential to handle these symbols appropriately during data processing.\n",
    ">* We can't use asterisks, so we need to decide whether to replace them with NaN (to indicate missing values), with a numeric value that represents the suppression condition or weather we will going to remove these observations."
   ]
  },
  {
   "cell_type": "code",
   "execution_count": 17,
   "id": "f42b9a7d-8a70-44f3-ab64-a265f4c69f3a",
   "metadata": {},
   "outputs": [
    {
     "name": "stdout",
     "output_type": "stream",
     "text": [
      "County\n",
      "United States                  1\n",
      "Powell County Montana          1\n",
      "Tillamook County Oregon        1\n",
      "Aiken County South Carolina    1\n",
      "Union County South Dakota      1\n",
      "                              ..\n",
      "Upson County Georgia           1\n",
      "Towns County Georgia           1\n",
      "La Salle County Illinois       1\n",
      "Union County Iowa              1\n",
      "Ziebach County South Dakota    1\n",
      "Name: count, Length: 3141, dtype: int64\n",
      "-------------------------\n",
      "FIPS\n",
      "Series([], Name: count, dtype: int64)\n",
      "-------------------------\n",
      "Objective\n",
      "No     1985\n",
      "Yes     828\n",
      "*       328\n",
      "Name: count, dtype: int64\n",
      "-------------------------\n",
      "Adjusted_Age\n",
      "*    328\n",
      "Name: count, dtype: int64\n",
      "-------------------------\n",
      "Lower95%_DeathRate\n",
      "*    328\n",
      "Name: count, dtype: int64\n",
      "-------------------------\n",
      "Upper95%_DeathRate\n",
      "*    328\n",
      "Name: count, dtype: int64\n",
      "-------------------------\n",
      "Death_Rate\n",
      "*    328\n",
      "Name: count, dtype: int64\n",
      "-------------------------\n",
      "RecentTrend_x\n",
      "stable     1796\n",
      "falling     867\n",
      "**          420\n",
      "rising       31\n",
      "*            27\n",
      "Name: count, dtype: int64\n",
      "-------------------------\n",
      "Recent5YearTrend_x\n",
      "**    420\n",
      "*      27\n",
      "Name: count, dtype: int64\n",
      "-------------------------\n",
      "Lower95%CI_Trend\n",
      "**    420\n",
      "*      27\n",
      "Name: count, dtype: int64\n",
      "-------------------------\n",
      "Upper95%CI_Trend\n",
      "**    420\n",
      "*      27\n",
      "Name: count, dtype: int64\n",
      "-------------------------\n",
      "Adjusted_Age_Incd\n",
      "*           213\n",
      "_           192\n",
      "__           17\n",
      "71.1 #        2\n",
      "68.2 #        2\n",
      "           ... \n",
      "77.6 #        1\n",
      "74.9 #        1\n",
      "73.2 #        1\n",
      "77.9 #        1\n",
      "35.7 #        1\n",
      "Name: count, Length: 79, dtype: int64\n",
      "-------------------------\n",
      "Lower95%CI_Incd\n",
      "*     213\n",
      "_     192\n",
      "__     17\n",
      "Name: count, dtype: int64\n",
      "-------------------------\n",
      "Upper95%CI_Incd\n",
      " *     213\n",
      " _     192\n",
      " __     17\n",
      "Name: count, dtype: int64\n",
      "-------------------------\n",
      "Average_Annual_Count\n",
      "3 or fewer    213\n",
      "_             192\n",
      "__             17\n",
      "Name: count, dtype: int64\n",
      "-------------------------\n",
      "RecentTrend_y\n",
      "stable     2429\n",
      "*           260\n",
      "falling     200\n",
      "_           192\n",
      "rising       43\n",
      "__           17\n",
      "Name: count, dtype: int64\n",
      "-------------------------\n",
      "Recent5YearTrend_y\n",
      "*     260\n",
      "_     192\n",
      "__     17\n",
      "Name: count, dtype: int64\n",
      "-------------------------\n",
      "Lower95%CI_Incd1\n",
      "*     260\n",
      "_     192\n",
      "__     17\n",
      "Name: count, dtype: int64\n",
      "-------------------------\n",
      "Upper95%CI_Incd1\n",
      "*     260\n",
      "_     192\n",
      "__     17\n",
      "Name: count, dtype: int64\n",
      "-------------------------\n"
     ]
    }
   ],
   "source": [
    "# Death Rate\n",
    "def f(column):\n",
    "    types = []\n",
    "    for _, j in enumerate(column):\n",
    "        try:\n",
    "            pd.to_numeric(j)\n",
    "        except:\n",
    "            types.append(j)\n",
    "    print(pd.Series(types).value_counts())\n",
    "for col in df.columns:\n",
    "    print(col)\n",
    "    f(df[col])\n",
    "    print('-'*25)\n"
   ]
  },
  {
   "cell_type": "markdown",
   "id": "03da66ac-88fe-425b-a127-812d50e5a3b4",
   "metadata": {},
   "source": [
    "We can see **328** Death Rates contain an aesterisk."
   ]
  },
  {
   "cell_type": "markdown",
   "id": "9da6902e-457d-4cee-9bd4-0502403c447f",
   "metadata": {},
   "source": [
    "> *Columns that seem to need to be fixed **Adjusted_Age_Incd**, **Average_Annual_Count**, **Recent Trends** and **Objective**.*"
   ]
  },
  {
   "cell_type": "code",
   "execution_count": 18,
   "id": "7791471c-be1a-4605-b9a5-392a4870a89b",
   "metadata": {},
   "outputs": [],
   "source": [
    "# Removing # from Adjusted Age Incidence\n",
    "df.Adjusted_Age_Incd = df.Adjusted_Age_Incd.str.replace('#', '')"
   ]
  },
  {
   "cell_type": "markdown",
   "id": "5d0c80ef-d4b2-432c-abb0-93c3378da0cb",
   "metadata": {},
   "source": [
    "> *The hash sign, we're told, means **\"Data do not include cases diagnosed in other states for those states in which the data exchange agreement specifically prohibits the release of data to third parties.**\"*\n",
    "\n",
    "How should we proceed? \n",
    "Well,I recommend addressing missing values by filling them in instead of removing any rows, especially considering our target variable, the death rate. Omitting rows could result in losing valuable mortality rate data. "
   ]
  },
  {
   "cell_type": "code",
   "execution_count": 19,
   "id": "747028c3-5e0c-415a-85bc-d4063524f6e8",
   "metadata": {},
   "outputs": [
    {
     "data": {
      "text/plain": [
       "Average_Annual_Count\n",
       "_         192\n",
       "6          89\n",
       "9          79\n",
       "2          76\n",
       "7          73\n",
       "         ... \n",
       "324         1\n",
       "158         1\n",
       "225         1\n",
       "154         1\n",
       "214614      1\n",
       "Name: count, Length: 365, dtype: int64"
      ]
     },
     "execution_count": 19,
     "metadata": {},
     "output_type": "execute_result"
    }
   ],
   "source": [
    "# Randomly impute values between 1 and 3 for entries with \" 3 or fewer \" in the Average Annual Count.\n",
    "mask = df.Average_Annual_Count == '3 or fewer'\n",
    "n_replacements = mask.sum()\n",
    "\n",
    "random_values = np.random.randint(1, 4, size=n_replacements)\n",
    "df.loc[mask, 'Average_Annual_Count'] = random_values\n",
    "\n",
    "df['Average_Annual_Count'].value_counts()"
   ]
  },
  {
   "cell_type": "code",
   "execution_count": 20,
   "id": "faa3679d-da0a-4ec8-a51b-fd8ce9e4e03d",
   "metadata": {},
   "outputs": [],
   "source": [
    "# Replacing the ** with unknown in RecentTrend_x or RecentTrend_y\n",
    "df.RecentTrend_x = df.RecentTrend_x.replace(['**', '*'], 'unknown').astype('category')\n",
    "df.RecentTrend_y = df.RecentTrend_y.replace(['**', '*'], 'unknown').astype('category')\n",
    "# Replace * with mode in Objective column\n",
    "df.Objective = df.Objective.replace('*', 'missing').astype('category')"
   ]
  },
  {
   "cell_type": "code",
   "execution_count": 21,
   "id": "11e4c2ce-0c42-49c4-9901-7f71aa320a05",
   "metadata": {},
   "outputs": [
    {
     "data": {
      "text/plain": [
       "RecentTrend_x\n",
       "stable     1796\n",
       "falling     867\n",
       "unknown     447\n",
       "rising       31\n",
       "Name: count, dtype: int64"
      ]
     },
     "execution_count": 21,
     "metadata": {},
     "output_type": "execute_result"
    }
   ],
   "source": [
    "df.RecentTrend_x.value_counts()"
   ]
  },
  {
   "cell_type": "code",
   "execution_count": 22,
   "id": "f66a6ec4-f8a5-412a-80ab-a67c8269603f",
   "metadata": {},
   "outputs": [],
   "source": [
    "def convert_dtypes(list):\n",
    "    types = []\n",
    "    for _, i in df[list]:\n",
    "        try:\n",
    "            pd.to_numeric(i)\n",
    "        except:\n",
    "            types.append(i)\n",
    "    print(pd.Series(types).value_counts())"
   ]
  },
  {
   "cell_type": "code",
   "execution_count": 23,
   "id": "47f16d27-ab20-4672-8a48-f60aa8d36ae3",
   "metadata": {},
   "outputs": [],
   "source": [
    "# Standarizing dtypes\n",
    "numerical_col = [\n",
    "    'Adjusted_Age', 'Lower95%_DeathRate',\n",
    "    'Upper95%_DeathRate', 'Death_Rate',\n",
    "    'Recent5YearTrend_x', 'Lower95%CI_Trend',\n",
    "    'Upper95%CI_Trend', 'Adjusted_Age_Incd',\n",
    "    'Lower95%CI_Incd', 'Upper95%CI_Incd',\n",
    "    'Average_Annual_Count','Recent5YearTrend_y',\n",
    "    'Lower95%CI_Incd1', 'Upper95%CI_Incd1'\n",
    "]\n",
    "\n",
    "for column in numerical_col:\n",
    "    df[column] = df[column].apply(lambda x : pd.to_numeric(x, errors ='coerce'))"
   ]
  },
  {
   "cell_type": "code",
   "execution_count": 24,
   "id": "d071c5dd-cc98-4527-9c9a-ae9c1396445a",
   "metadata": {},
   "outputs": [
    {
     "name": "stdout",
     "output_type": "stream",
     "text": [
      "<class 'pandas.core.frame.DataFrame'>\n",
      "Index: 3141 entries, 0 to 3140\n",
      "Data columns (total 19 columns):\n",
      " #   Column                Non-Null Count  Dtype   \n",
      "---  ------                --------------  -----   \n",
      " 0   County                3141 non-null   object  \n",
      " 1   FIPS                  3141 non-null   int64   \n",
      " 2   Objective             3141 non-null   category\n",
      " 3   Adjusted_Age          2813 non-null   float64 \n",
      " 4   Lower95%_DeathRate    2813 non-null   float64 \n",
      " 5   Upper95%_DeathRate    2813 non-null   float64 \n",
      " 6   Death_Rate            2813 non-null   float64 \n",
      " 7   RecentTrend_x         3141 non-null   category\n",
      " 8   Recent5YearTrend_x    2694 non-null   float64 \n",
      " 9   Lower95%CI_Trend      2694 non-null   float64 \n",
      " 10  Upper95%CI_Trend      2694 non-null   float64 \n",
      " 11  Adjusted_Age_Incd     2719 non-null   float64 \n",
      " 12  Lower95%CI_Incd       2719 non-null   float64 \n",
      " 13  Upper95%CI_Incd       2719 non-null   float64 \n",
      " 14  Average_Annual_Count  2932 non-null   float64 \n",
      " 15  RecentTrend_y         3141 non-null   category\n",
      " 16  Recent5YearTrend_y    2672 non-null   float64 \n",
      " 17  Lower95%CI_Incd1      2672 non-null   float64 \n",
      " 18  Upper95%CI_Incd1      2672 non-null   float64 \n",
      "dtypes: category(3), float64(14), int64(1), object(1)\n",
      "memory usage: 426.9+ KB\n"
     ]
    }
   ],
   "source": [
    "df.info()"
   ]
  },
  {
   "cell_type": "code",
   "execution_count": 25,
   "id": "06cccfa5-b55a-42bb-8380-7a21b2966338",
   "metadata": {},
   "outputs": [
    {
     "data": {
      "text/plain": [
       "(3141, 19)"
      ]
     },
     "execution_count": 25,
     "metadata": {},
     "output_type": "execute_result"
    }
   ],
   "source": [
    "df.shape"
   ]
  },
  {
   "cell_type": "code",
   "execution_count": 26,
   "id": "18526ce3-4d9b-4d4e-8ed0-ce78a223146e",
   "metadata": {},
   "outputs": [
    {
     "data": {
      "text/plain": [
       "County                    0\n",
       "FIPS                      0\n",
       "Objective                 0\n",
       "Adjusted_Age            328\n",
       "Lower95%_DeathRate      328\n",
       "Upper95%_DeathRate      328\n",
       "Death_Rate              328\n",
       "RecentTrend_x             0\n",
       "Recent5YearTrend_x      447\n",
       "Lower95%CI_Trend        447\n",
       "Upper95%CI_Trend        447\n",
       "Adjusted_Age_Incd       422\n",
       "Lower95%CI_Incd         422\n",
       "Upper95%CI_Incd         422\n",
       "Average_Annual_Count    209\n",
       "RecentTrend_y             0\n",
       "Recent5YearTrend_y      469\n",
       "Lower95%CI_Incd1        469\n",
       "Upper95%CI_Incd1        469\n",
       "dtype: int64"
      ]
     },
     "execution_count": 26,
     "metadata": {},
     "output_type": "execute_result"
    }
   ],
   "source": [
    "df.isnull().sum()"
   ]
  },
  {
   "cell_type": "markdown",
   "id": "dfb0e21e-3576-4a59-8115-d687a65c4de8",
   "metadata": {},
   "source": [
    "## <span style=\"font-family: cursive\">Handling Missing Values</span>"
   ]
  },
  {
   "cell_type": "markdown",
   "id": "8128c5ac-ad44-4b65-87b2-24cfc5a96241",
   "metadata": {},
   "source": [
    "> *If the dataset lacks information on the death rate, and considering the relatively low quantity of such instances, it may be appropriate to remove these observations from our data*"
   ]
  },
  {
   "cell_type": "code",
   "execution_count": 27,
   "id": "d84756a0-3ebe-402d-95e4-c93caff687e3",
   "metadata": {},
   "outputs": [],
   "source": [
    "df = df.dropna(subset=['Death_Rate'])"
   ]
  },
  {
   "cell_type": "code",
   "execution_count": 28,
   "id": "46539c4e-babc-4d61-a6b9-9924dcd9b0e1",
   "metadata": {},
   "outputs": [
    {
     "data": {
      "text/plain": [
       "County                    0\n",
       "FIPS                      0\n",
       "Objective                 0\n",
       "Adjusted_Age              0\n",
       "Lower95%_DeathRate        0\n",
       "Upper95%_DeathRate        0\n",
       "Death_Rate                0\n",
       "RecentTrend_x             0\n",
       "Recent5YearTrend_x      119\n",
       "Lower95%CI_Trend        119\n",
       "Upper95%CI_Trend        119\n",
       "Adjusted_Age_Incd       168\n",
       "Lower95%CI_Incd         168\n",
       "Upper95%CI_Incd         168\n",
       "Average_Annual_Count    163\n",
       "RecentTrend_y             0\n",
       "Recent5YearTrend_y      191\n",
       "Lower95%CI_Incd1        191\n",
       "Upper95%CI_Incd1        191\n",
       "dtype: int64"
      ]
     },
     "execution_count": 28,
     "metadata": {},
     "output_type": "execute_result"
    }
   ],
   "source": [
    "df.isnull().sum()"
   ]
  },
  {
   "cell_type": "code",
   "execution_count": 29,
   "id": "9c9ca2b5-149c-4477-9a21-2d1e1cd874ee",
   "metadata": {},
   "outputs": [
    {
     "data": {
      "text/plain": [
       "<Axes: >"
      ]
     },
     "execution_count": 29,
     "metadata": {},
     "output_type": "execute_result"
    },
    {
     "data": {
      "image/png": "[encoded data removed]",
      "text/plain": [
       "<Figure size 2500x1000 with 2 Axes>"
      ]
     },
     "metadata": {},
     "output_type": "display_data"
    }
   ],
   "source": [
    "msno.matrix(df)"
   ]
  },
  {
   "cell_type": "code",
   "execution_count": 30,
   "id": "61b64c99-77b0-40f2-a58e-42c3c81dd874",
   "metadata": {},
   "outputs": [
    {
     "data": {
      "image/png": "[encoded data removed]",
      "text/plain": [
       "<Figure size 1200x800 with 4 Axes>"
      ]
     },
     "metadata": {},
     "output_type": "display_data"
    }
   ],
   "source": [
    "df[['Recent5YearTrend_x', 'Lower95%CI_Trend', 'Upper95%CI_Trend']].hist(bins=20, figsize=(12, 8), alpha=0.7, color='#48dbfb')\n",
    "plt.show()"
   ]
  },
  {
   "cell_type": "code",
   "execution_count": 31,
   "id": "9207517a-a74c-4af0-aee4-3b680ed02877",
   "metadata": {},
   "outputs": [],
   "source": [
    "# Impute the missing values with mean \n",
    "col_mean = ['Recent5YearTrend_x', 'Lower95%CI_Trend', 'Upper95%CI_Trend']\n",
    "df[col_mean] = df[col_mean].fillna(df[col_mean].mean())# Impute the missing values with mean \n",
    "col_mean = ['Recent5YearTrend_x', 'Lower95%CI_Trend', 'Upper95%CI_Trend']\n",
    "df[col_mean] = df[col_mean].fillna(df[col_mean].mean())"
   ]
  },
  {
   "cell_type": "code",
   "execution_count": 32,
   "id": "52cd0a14-51bd-45b8-881d-1bf9a4fc5516",
   "metadata": {},
   "outputs": [
    {
     "data": {
      "image/png": "[encoded data removed]",
      "text/plain": [
       "<Figure size 1200x500 with 2 Axes>"
      ]
     },
     "metadata": {},
     "output_type": "display_data"
    }
   ],
   "source": [
    "df[['Lower95%CI_Incd', 'Upper95%CI_Incd']].hist(bins=20, figsize=(12, 5), alpha=0.7, color='#D6A2E8', density=True)\n",
    "plt.show()"
   ]
  },
  {
   "cell_type": "code",
   "execution_count": 33,
   "id": "c853b6d0-a6ec-49a7-9f02-87266655d64a",
   "metadata": {},
   "outputs": [],
   "source": [
    "# Impute the missing values with median \n",
    "col_median = ['Upper95%CI_Incd', 'Lower95%CI_Incd']\n",
    "df[col_median] = df[col_median].fillna(df[col_median].median())"
   ]
  },
  {
   "cell_type": "code",
   "execution_count": 34,
   "id": "bf0e289d-f1f6-4ab6-85c5-68d33ddbf42f",
   "metadata": {},
   "outputs": [
    {
     "data": {
      "image/png": "[encoded data removed]",
      "text/plain": [
       "<Figure size 1200x800 with 4 Axes>"
      ]
     },
     "metadata": {},
     "output_type": "display_data"
    }
   ],
   "source": [
    "df[['Lower95%CI_Incd1', 'Recent5YearTrend_y', 'Upper95%CI_Incd1']].hist(bins=20, figsize=(12, 8), alpha=0.7, color='#F79F1F', density=True)\n",
    "plt.show()"
   ]
  },
  {
   "cell_type": "code",
   "execution_count": 35,
   "id": "1e0e48ea-606c-4960-bfcb-6dc3d007c9fb",
   "metadata": {},
   "outputs": [],
   "source": [
    "# The median makes sense given the skewed nature of the data.\n",
    "imp = ['Lower95%CI_Incd1', 'Recent5YearTrend_y', 'Upper95%CI_Incd1']\n",
    "df[imp] = df[imp].fillna(df[imp].median())"
   ]
  },
  {
   "cell_type": "code",
   "execution_count": 36,
   "id": "dee35059-4930-4be3-9bcb-0b21f4a24431",
   "metadata": {},
   "outputs": [
    {
     "data": {
      "text/plain": [
       "<seaborn.axisgrid.FacetGrid at 0x272df131bd0>"
      ]
     },
     "execution_count": 36,
     "metadata": {},
     "output_type": "execute_result"
    },
    {
     "data": {
      "image/png": "[encoded data removed]",
      "text/plain": [
       "<Figure size 500x500 with 1 Axes>"
      ]
     },
     "metadata": {},
     "output_type": "display_data"
    }
   ],
   "source": [
    "sns.displot(np.log(df['Average_Annual_Count']))"
   ]
  },
  {
   "cell_type": "code",
   "execution_count": 37,
   "id": "50197029-73c9-4a2b-b44d-17c48472c89c",
   "metadata": {},
   "outputs": [
    {
     "data": {
      "image/png": "[encoded data removed]",
      "text/plain": [
       "<Figure size 500x500 with 1 Axes>"
      ]
     },
     "metadata": {},
     "output_type": "display_data"
    },
    {
     "data": {
      "image/png": "[encoded data removed]",
      "text/plain": [
       "<Figure size 500x500 with 1 Axes>"
      ]
     },
     "metadata": {},
     "output_type": "display_data"
    }
   ],
   "source": [
    "feat = ['Adjusted_Age', 'Adjusted_Age_Incd']\n",
    "for i in feat:\n",
    " sns.displot(df[i])"
   ]
  },
  {
   "cell_type": "code",
   "execution_count": 38,
   "id": "a7a1e8ab-76dc-4f94-9cb5-44ec50ca4f38",
   "metadata": {},
   "outputs": [
    {
     "data": {
      "text/plain": [
       "count    2645.000000\n",
       "mean       70.087826\n",
       "std        17.676101\n",
       "min        13.500000\n",
       "25%        58.500000\n",
       "50%        69.500000\n",
       "75%        80.000000\n",
       "max       203.700000\n",
       "Name: Adjusted_Age_Incd, dtype: float64"
      ]
     },
     "execution_count": 38,
     "metadata": {},
     "output_type": "execute_result"
    }
   ],
   "source": [
    "df.Adjusted_Age_Incd.describe()"
   ]
  },
  {
   "cell_type": "code",
   "execution_count": 39,
   "id": "5a6b7776-13a7-4d97-b36a-26d552a74afa",
   "metadata": {},
   "outputs": [
    {
     "data": {
      "text/plain": [
       "count    2813.000000\n",
       "mean       53.185140\n",
       "std        14.033997\n",
       "min         9.200000\n",
       "25%        43.700000\n",
       "50%        52.600000\n",
       "75%        61.200000\n",
       "max       125.600000\n",
       "Name: Adjusted_Age, dtype: float64"
      ]
     },
     "execution_count": 39,
     "metadata": {},
     "output_type": "execute_result"
    }
   ],
   "source": [
    "df.Adjusted_Age.describe()"
   ]
  },
  {
   "cell_type": "markdown",
   "id": "773b3fde-64e3-4489-99ee-2b39a84a6b5d",
   "metadata": {},
   "source": [
    "> *We have identified outliers in the Age columns, so the first step is to remove these outliers.\n",
    "Following outlier removal, we will proceed with imputing missing values using either the mean or median, depending on the specific requirements of the analysis.*\r\n",
    "\r\n",
    "\r\n"
   ]
  },
  {
   "cell_type": "markdown",
   "id": "4e99379a-c0f9-4a61-99ed-01fa993ac2cd",
   "metadata": {},
   "source": [
    "## <span style=\"font-family: cursive\">Removing Outliers</span>"
   ]
  },
  {
   "cell_type": "code",
   "execution_count": 40,
   "id": "5e9b4ceb-d2d7-4e5e-b18b-205c43340ee4",
   "metadata": {},
   "outputs": [],
   "source": [
    "def removing_outliers(col):\n",
    "    lower_bound = df[col].quantile(0.01)\n",
    "    upper_bound = df[col].quantile(0.9)\n",
    "    \n",
    "    # clip the age column to remove outliers\n",
    "    df[col] = df[col].clip(lower=lower_bound, upper=upper_bound)"
   ]
  },
  {
   "cell_type": "markdown",
   "id": "34dad71a-cf22-48bc-9af3-e2df0f778fb8",
   "metadata": {},
   "source": [
    "> *The values in the specified column are **clipped**, meaning any values below the lower_bound are set to the lower_bound, and any values above the upper_bound are set to the upper_bound. This effectively removes outliers by capping extreme values.*"
   ]
  },
  {
   "cell_type": "code",
   "execution_count": 41,
   "id": "7d5a5f38-513d-4930-b401-587d8a7d2ccf",
   "metadata": {},
   "outputs": [],
   "source": [
    "removing_outliers('Adjusted_Age')\n",
    "removing_outliers('Adjusted_Age_Incd')\n",
    "removing_outliers('Average_Annual_Count')"
   ]
  },
  {
   "cell_type": "code",
   "execution_count": 42,
   "id": "7cf341f6-ef60-477c-ab3b-e5590ed637d6",
   "metadata": {},
   "outputs": [],
   "source": [
    "# now we've to impute the missing values with mean.\n",
    "cols = ['Adjusted_Age', 'Adjusted_Age_Incd', 'Average_Annual_Count']\n",
    "df[cols] = df[cols].fillna(df[cols].mean())"
   ]
  },
  {
   "cell_type": "code",
   "execution_count": 43,
   "id": "c893898c-c4b4-4c69-a480-de3965f92407",
   "metadata": {},
   "outputs": [
    {
     "data": {
      "text/plain": [
       "County                  0\n",
       "FIPS                    0\n",
       "Objective               0\n",
       "Adjusted_Age            0\n",
       "Lower95%_DeathRate      0\n",
       "Upper95%_DeathRate      0\n",
       "Death_Rate              0\n",
       "RecentTrend_x           0\n",
       "Recent5YearTrend_x      0\n",
       "Lower95%CI_Trend        0\n",
       "Upper95%CI_Trend        0\n",
       "Adjusted_Age_Incd       0\n",
       "Lower95%CI_Incd         0\n",
       "Upper95%CI_Incd         0\n",
       "Average_Annual_Count    0\n",
       "RecentTrend_y           0\n",
       "Recent5YearTrend_y      0\n",
       "Lower95%CI_Incd1        0\n",
       "Upper95%CI_Incd1        0\n",
       "dtype: int64"
      ]
     },
     "execution_count": 43,
     "metadata": {},
     "output_type": "execute_result"
    }
   ],
   "source": [
    "df.isnull().sum()"
   ]
  },
  {
   "cell_type": "markdown",
   "id": "b9cae1fc-bbcd-402f-8ec8-c6e902368634",
   "metadata": {},
   "source": [
    "# <span style=\"font-family :cursive\">Data Exploration</span>"
   ]
  },
  {
   "cell_type": "code",
   "execution_count": 44,
   "id": "c19a6f09-423e-4cbc-a813-4909dc28d26c",
   "metadata": {},
   "outputs": [
    {
     "data": {
      "text/html": [
       "<div>\n",
       "<style scoped>\n",
       "    .dataframe tbody tr th:only-of-type {\n",
       "        vertical-align: middle;\n",
       "    }\n",
       "\n",
       "    .dataframe tbody tr th {\n",
       "        vertical-align: top;\n",
       "    }\n",
       "\n",
       "    .dataframe thead th {\n",
       "        text-align: right;\n",
       "    }\n",
       "</style>\n",
       "<table border=\"1\" class=\"dataframe\">\n",
       "  <thead>\n",
       "    <tr style=\"text-align: right;\">\n",
       "      <th></th>\n",
       "      <th>count</th>\n",
       "      <th>mean</th>\n",
       "      <th>std</th>\n",
       "      <th>min</th>\n",
       "      <th>25%</th>\n",
       "      <th>50%</th>\n",
       "      <th>75%</th>\n",
       "      <th>max</th>\n",
       "    </tr>\n",
       "  </thead>\n",
       "  <tbody>\n",
       "    <tr>\n",
       "      <th>FIPS</th>\n",
       "      <td>2813.0</td>\n",
       "      <td>30223.062211</td>\n",
       "      <td>15200.849995</td>\n",
       "      <td>0.000</td>\n",
       "      <td>18145.0</td>\n",
       "      <td>29071.000000</td>\n",
       "      <td>45031.0</td>\n",
       "      <td>56045.0</td>\n",
       "    </tr>\n",
       "    <tr>\n",
       "      <th>Adjusted_Age</th>\n",
       "      <td>2813.0</td>\n",
       "      <td>52.282385</td>\n",
       "      <td>11.916913</td>\n",
       "      <td>23.912</td>\n",
       "      <td>43.7</td>\n",
       "      <td>52.600000</td>\n",
       "      <td>61.2</td>\n",
       "      <td>70.7</td>\n",
       "    </tr>\n",
       "    <tr>\n",
       "      <th>Lower95%_DeathRate</th>\n",
       "      <td>2813.0</td>\n",
       "      <td>42.795165</td>\n",
       "      <td>12.387980</td>\n",
       "      <td>6.400</td>\n",
       "      <td>34.4</td>\n",
       "      <td>42.900000</td>\n",
       "      <td>50.8</td>\n",
       "      <td>108.9</td>\n",
       "    </tr>\n",
       "    <tr>\n",
       "      <th>Upper95%_DeathRate</th>\n",
       "      <td>2813.0</td>\n",
       "      <td>66.269499</td>\n",
       "      <td>18.617687</td>\n",
       "      <td>12.800</td>\n",
       "      <td>53.3</td>\n",
       "      <td>64.000000</td>\n",
       "      <td>77.0</td>\n",
       "      <td>194.7</td>\n",
       "    </tr>\n",
       "    <tr>\n",
       "      <th>Death_Rate</th>\n",
       "      <td>2813.0</td>\n",
       "      <td>111.708496</td>\n",
       "      <td>2968.939243</td>\n",
       "      <td>3.000</td>\n",
       "      <td>10.0</td>\n",
       "      <td>21.000000</td>\n",
       "      <td>48.0</td>\n",
       "      <td>157376.0</td>\n",
       "    </tr>\n",
       "    <tr>\n",
       "      <th>Recent5YearTrend_x</th>\n",
       "      <td>2813.0</td>\n",
       "      <td>-1.003526</td>\n",
       "      <td>2.321142</td>\n",
       "      <td>-33.400</td>\n",
       "      <td>-1.5</td>\n",
       "      <td>-0.900000</td>\n",
       "      <td>-0.1</td>\n",
       "      <td>31.1</td>\n",
       "    </tr>\n",
       "    <tr>\n",
       "      <th>Lower95%CI_Trend</th>\n",
       "      <td>2813.0</td>\n",
       "      <td>-2.755939</td>\n",
       "      <td>3.370446</td>\n",
       "      <td>-60.900</td>\n",
       "      <td>-3.0</td>\n",
       "      <td>-2.200000</td>\n",
       "      <td>-1.5</td>\n",
       "      <td>6.9</td>\n",
       "    </tr>\n",
       "    <tr>\n",
       "      <th>Upper95%CI_Trend</th>\n",
       "      <td>2813.0</td>\n",
       "      <td>0.837305</td>\n",
       "      <td>3.017430</td>\n",
       "      <td>-10.300</td>\n",
       "      <td>-0.3</td>\n",
       "      <td>0.700000</td>\n",
       "      <td>1.5</td>\n",
       "      <td>78.1</td>\n",
       "    </tr>\n",
       "    <tr>\n",
       "      <th>Adjusted_Age_Incd</th>\n",
       "      <td>2813.0</td>\n",
       "      <td>68.934197</td>\n",
       "      <td>14.355587</td>\n",
       "      <td>32.276</td>\n",
       "      <td>59.4</td>\n",
       "      <td>68.934197</td>\n",
       "      <td>79.2</td>\n",
       "      <td>91.5</td>\n",
       "    </tr>\n",
       "    <tr>\n",
       "      <th>Lower95%CI_Incd</th>\n",
       "      <td>2813.0</td>\n",
       "      <td>58.321792</td>\n",
       "      <td>15.591788</td>\n",
       "      <td>7.600</td>\n",
       "      <td>48.3</td>\n",
       "      <td>58.800000</td>\n",
       "      <td>67.6</td>\n",
       "      <td>172.4</td>\n",
       "    </tr>\n",
       "    <tr>\n",
       "      <th>Upper95%CI_Incd</th>\n",
       "      <td>2813.0</td>\n",
       "      <td>84.318948</td>\n",
       "      <td>21.353294</td>\n",
       "      <td>18.300</td>\n",
       "      <td>71.2</td>\n",
       "      <td>82.400000</td>\n",
       "      <td>94.8</td>\n",
       "      <td>239.1</td>\n",
       "    </tr>\n",
       "    <tr>\n",
       "      <th>Average_Annual_Count</th>\n",
       "      <td>2813.0</td>\n",
       "      <td>50.692453</td>\n",
       "      <td>49.858806</td>\n",
       "      <td>4.000</td>\n",
       "      <td>15.0</td>\n",
       "      <td>32.000000</td>\n",
       "      <td>62.0</td>\n",
       "      <td>169.0</td>\n",
       "    </tr>\n",
       "    <tr>\n",
       "      <th>Recent5YearTrend_y</th>\n",
       "      <td>2813.0</td>\n",
       "      <td>-1.584714</td>\n",
       "      <td>7.258778</td>\n",
       "      <td>-40.100</td>\n",
       "      <td>-5.2</td>\n",
       "      <td>-1.600000</td>\n",
       "      <td>1.4</td>\n",
       "      <td>44.2</td>\n",
       "    </tr>\n",
       "    <tr>\n",
       "      <th>Lower95%CI_Incd1</th>\n",
       "      <td>2813.0</td>\n",
       "      <td>-17.389335</td>\n",
       "      <td>11.404177</td>\n",
       "      <td>-69.000</td>\n",
       "      <td>-23.9</td>\n",
       "      <td>-15.600000</td>\n",
       "      <td>-9.5</td>\n",
       "      <td>12.8</td>\n",
       "    </tr>\n",
       "    <tr>\n",
       "      <th>Upper95%CI_Incd1</th>\n",
       "      <td>2813.0</td>\n",
       "      <td>19.329470</td>\n",
       "      <td>20.914010</td>\n",
       "      <td>-12.100</td>\n",
       "      <td>5.2</td>\n",
       "      <td>13.800000</td>\n",
       "      <td>26.4</td>\n",
       "      <td>179.3</td>\n",
       "    </tr>\n",
       "  </tbody>\n",
       "</table>\n",
       "</div>"
      ],
      "text/plain": [
       "                       count          mean           std     min      25%  \\\n",
       "FIPS                  2813.0  30223.062211  15200.849995   0.000  18145.0   \n",
       "Adjusted_Age          2813.0     52.282385     11.916913  23.912     43.7   \n",
       "Lower95%_DeathRate    2813.0     42.795165     12.387980   6.400     34.4   \n",
       "Upper95%_DeathRate    2813.0     66.269499     18.617687  12.800     53.3   \n",
       "Death_Rate            2813.0    111.708496   2968.939243   3.000     10.0   \n",
       "Recent5YearTrend_x    2813.0     -1.003526      2.321142 -33.400     -1.5   \n",
       "Lower95%CI_Trend      2813.0     -2.755939      3.370446 -60.900     -3.0   \n",
       "Upper95%CI_Trend      2813.0      0.837305      3.017430 -10.300     -0.3   \n",
       "Adjusted_Age_Incd     2813.0     68.934197     14.355587  32.276     59.4   \n",
       "Lower95%CI_Incd       2813.0     58.321792     15.591788   7.600     48.3   \n",
       "Upper95%CI_Incd       2813.0     84.318948     21.353294  18.300     71.2   \n",
       "Average_Annual_Count  2813.0     50.692453     49.858806   4.000     15.0   \n",
       "Recent5YearTrend_y    2813.0     -1.584714      7.258778 -40.100     -5.2   \n",
       "Lower95%CI_Incd1      2813.0    -17.389335     11.404177 -69.000    -23.9   \n",
       "Upper95%CI_Incd1      2813.0     19.329470     20.914010 -12.100      5.2   \n",
       "\n",
       "                               50%      75%       max  \n",
       "FIPS                  29071.000000  45031.0   56045.0  \n",
       "Adjusted_Age             52.600000     61.2      70.7  \n",
       "Lower95%_DeathRate       42.900000     50.8     108.9  \n",
       "Upper95%_DeathRate       64.000000     77.0     194.7  \n",
       "Death_Rate               21.000000     48.0  157376.0  \n",
       "Recent5YearTrend_x       -0.900000     -0.1      31.1  \n",
       "Lower95%CI_Trend         -2.200000     -1.5       6.9  \n",
       "Upper95%CI_Trend          0.700000      1.5      78.1  \n",
       "Adjusted_Age_Incd        68.934197     79.2      91.5  \n",
       "Lower95%CI_Incd          58.800000     67.6     172.4  \n",
       "Upper95%CI_Incd          82.400000     94.8     239.1  \n",
       "Average_Annual_Count     32.000000     62.0     169.0  \n",
       "Recent5YearTrend_y       -1.600000      1.4      44.2  \n",
       "Lower95%CI_Incd1        -15.600000     -9.5      12.8  \n",
       "Upper95%CI_Incd1         13.800000     26.4     179.3  "
      ]
     },
     "execution_count": 44,
     "metadata": {},
     "output_type": "execute_result"
    }
   ],
   "source": [
    "df.describe().T"
   ]
  },
  {
   "cell_type": "code",
   "execution_count": 45,
   "id": "5884deb0-ed4a-4cb9-97d9-209e5aa7c794",
   "metadata": {},
   "outputs": [
    {
     "data": {
      "text/plain": [
       "(2813, 19)"
      ]
     },
     "execution_count": 45,
     "metadata": {},
     "output_type": "execute_result"
    }
   ],
   "source": [
    "df.shape"
   ]
  },
  {
   "cell_type": "markdown",
   "id": "c56905be-b5eb-40d5-af63-c6efa2d9de83",
   "metadata": {},
   "source": [
    "**How many Counties met the objective (achieving Death Rate of 45.5).**"
   ]
  },
  {
   "cell_type": "code",
   "execution_count": 46,
   "id": "b76d2043-0ed4-4928-b28c-a0bc4374bf5e",
   "metadata": {},
   "outputs": [
    {
     "data": {
      "text/plain": [
       "828"
      ]
     },
     "execution_count": 46,
     "metadata": {},
     "output_type": "execute_result"
    }
   ],
   "source": [
    "df.loc[df['Objective'] == 'Yes' , 'County'].nunique()"
   ]
  },
  {
   "cell_type": "code",
   "execution_count": null,
   "id": "bed514a4-5445-4c25-854e-fa50dcce2a1e",
   "metadata": {},
   "outputs": [],
   "source": []
  }
 ],
 "metadata": {
  "kernelspec": {
   "display_name": "Python 3 (ipykernel)",
   "language": "python",
   "name": "python3"
  },
  "language_info": {
   "codemirror_mode": {
    "name": "ipython",
    "version": 3
   },
   "file_extension": ".py",
   "mimetype": "text/x-python",
   "name": "python",
   "nbconvert_exporter": "python",
   "pygments_lexer": "ipython3",
   "version": "3.11.5"
  }
 },
 "nbformat": 4,
 "nbformat_minor": 5
}
